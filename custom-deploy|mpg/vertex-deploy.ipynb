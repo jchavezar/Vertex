{
 "cells": [
  {
   "cell_type": "code",
   "execution_count": null,
   "id": "426335b5-36c5-49d7-b86b-298080dc200c",
   "metadata": {},
   "outputs": [],
   "source": [
    "import numpy as np\n",
    "import pandas as pd\n",
    "import pathlib\n",
    "import tensorflow as tf\n",
    "\n",
    "from tensorflow import keras\n",
    "from tensorflow.keras import layers\n",
    "\n",
    "print(tf.__version__)\n",
    "\n",
    "\"\"\"## The Auto MPG dataset\n",
    "\n",
    "The dataset is available from the [UCI Machine Learning Repository](https://archive.ics.uci.edu/ml/).\n",
    "\n",
    "### Get the data\n",
    "First download the dataset.\n",
    "\"\"\"\n",
    "\n",
    "dataset_path = keras.utils.get_file(\"auto-mpg.data\", \"http://archive.ics.uci.edu/ml/machine-learning-databases/auto-mpg/auto-mpg.data\")\n",
    "dataset_path\n",
    "\n",
    "\"\"\"Import it using pandas\"\"\"\n",
    "\n",
    "column_names = ['MPG','Cylinders','Displacement','Horsepower','Weight',\n",
    "                'Acceleration', 'Model Year', 'Origin']\n",
    "dataset = pd.read_csv(dataset_path, names=column_names,\n",
    "                      na_values = \"?\", comment='\\t',\n",
    "                      sep=\" \", skipinitialspace=True)\n",
    "\n",
    "dataset.tail()\n",
    "\n",
    "# TODO: replace `your-gcs-bucket` with the name of the Storage bucket you created earlier\n",
    "BUCKET = 'gs://your-gcs-bucket'\n",
    "\n",
    "\"\"\"### Clean the data\n",
    "\n",
    "The dataset contains a few unknown values.\n",
    "\"\"\"\n",
    "\n",
    "dataset.isna().sum()\n",
    "\n",
    "\"\"\"To keep this initial tutorial simple drop those rows.\"\"\"\n",
    "\n",
    "dataset = dataset.dropna()\n",
    "\n",
    "\"\"\"The `\"Origin\"` column is really categorical, not numeric. So convert that to a one-hot:\"\"\"\n",
    "\n",
    "dataset['Origin'] = dataset['Origin'].map({1: 'USA', 2: 'Europe', 3: 'Japan'})\n",
    "\n",
    "dataset = pd.get_dummies(dataset, prefix='', prefix_sep='')\n",
    "dataset.tail()\n",
    "\n",
    "\"\"\"### Split the data into train and test\n",
    "\n",
    "Now split the dataset into a training set and a test set.\n",
    "\n",
    "We will use the test set in the final evaluation of our model.\n",
    "\"\"\"\n",
    "\n",
    "train_dataset = dataset.sample(frac=0.8,random_state=0)\n",
    "test_dataset = dataset.drop(train_dataset.index)\n",
    "\n",
    "\"\"\"### Inspect the data\n",
    "\n",
    "Have a quick look at the joint distribution of a few pairs of columns from the training set.\n",
    "\n",
    "Also look at the overall statistics:\n",
    "\"\"\"\n",
    "\n",
    "train_stats = train_dataset.describe()\n",
    "train_stats.pop(\"MPG\")\n",
    "train_stats = train_stats.transpose()\n",
    "train_stats\n",
    "\n",
    "\"\"\"### Split features from labels\n",
    "\n",
    "Separate the target value, or \"label\", from the features. This label is the value that you will train the model to predict.\n",
    "\"\"\"\n",
    "\n",
    "train_labels = train_dataset.pop('MPG')\n",
    "test_labels = test_dataset.pop('MPG')\n",
    "\n",
    "\"\"\"### Normalize the data\n",
    "\n",
    "Look again at the `train_stats` block above and note how different the ranges of each feature are.\n",
    "\n",
    "It is good practice to normalize features that use different scales and ranges. Although the model *might* converge without feature normalization, it makes training more difficult, and it makes the resulting model dependent on the choice of units used in the input.\n",
    "\n",
    "Note: Although we intentionally generate these statistics from only the training dataset, these statistics will also be used to normalize the test dataset. We need to do that to project the test dataset into the same distribution that the model has been trained on.\n",
    "\"\"\"\n",
    "\n",
    "def norm(x):\n",
    "  return (x - train_stats['mean']) / train_stats['std']\n",
    "normed_train_data = norm(train_dataset)\n",
    "normed_test_data = norm(test_dataset)\n",
    "\n",
    "\"\"\"This normalized data is what we will use to train the model.\n",
    "\n",
    "Caution: The statistics used to normalize the inputs here (mean and standard deviation) need to be applied to any other data that is fed to the model, along with the one-hot encoding that we did earlier.  That includes the test set as well as live data when the model is used in production.\n",
    "\n",
    "## The model\n",
    "\n",
    "### Build the model\n",
    "\n",
    "Let's build our model. Here, we'll use a `Sequential` model with two densely connected hidden layers, and an output layer that returns a single, continuous value. The model building steps are wrapped in a function, `build_model`, since we'll create a second model, later on.\n",
    "\"\"\"\n",
    "\n",
    "def build_model():\n",
    "  model = keras.Sequential([\n",
    "    layers.Dense(64, activation='relu', input_shape=[len(train_dataset.keys())]),\n",
    "    layers.Dense(64, activation='relu'),\n",
    "    layers.Dense(1)\n",
    "  ])\n",
    "\n",
    "  optimizer = tf.keras.optimizers.RMSprop(0.001)\n",
    "\n",
    "  model.compile(loss='mse',\n",
    "                optimizer=optimizer,\n",
    "                metrics=['mae', 'mse'])\n",
    "  return model\n",
    "\n",
    "model = build_model()\n",
    "\n",
    "\"\"\"### Inspect the model\n",
    "\n",
    "Use the `.summary` method to print a simple description of the model\n",
    "\"\"\"\n",
    "\n",
    "model.summary()\n",
    "\n",
    "\"\"\"Now try out the model. Take a batch of `10` examples from the training data and call `model.predict` on it.\n",
    "\n",
    "It seems to be working, and it produces a result of the expected shape and type.\n",
    "\n",
    "### Train the model\n",
    "\n",
    "Train the model for 1000 epochs, and record the training and validation accuracy in the `history` object.\n",
    "\n",
    "Visualize the model's training progress using the stats stored in the `history` object.\n",
    "\n",
    "This graph shows little improvement, or even degradation in the validation error after about 100 epochs. Let's update the `model.fit` call to automatically stop training when the validation score doesn't improve. We'll use an *EarlyStopping callback* that tests a training condition for  every epoch. If a set amount of epochs elapses without showing improvement, then automatically stop the training.\n",
    "\n",
    "You can learn more about this callback [here](https://www.tensorflow.org/api_docs/python/tf/keras/callbacks/EarlyStopping).\n",
    "\"\"\"\n",
    "\n",
    "model = build_model()\n",
    "\n",
    "EPOCHS = 1000\n",
    "\n",
    "# The patience parameter is the amount of epochs to check for improvement\n",
    "early_stop = keras.callbacks.EarlyStopping(monitor='val_loss', patience=10)\n",
    "\n",
    "early_history = model.fit(normed_train_data, train_labels, \n",
    "                    epochs=EPOCHS, validation_split = 0.2, \n",
    "                    callbacks=[early_stop])\n",
    "\n",
    "\n",
    "# Export model and save to GCS\n",
    "model.save(BUCKET + '/mpg/model')"
   ]
  },
  {
   "cell_type": "code",
   "execution_count": 2,
   "id": "5b17ab39-494f-41a1-8551-a11690972cd2",
   "metadata": {},
   "outputs": [
    {
     "name": "stdout",
     "output_type": "stream",
     "text": [
      "gs://vertexlooker-models-central/mpg/model/\n",
      "gs://vertexlooker-models-central/mpg/model/keras_metadata.pb\n",
      "gs://vertexlooker-models-central/mpg/model/saved_model.pb\n",
      "gs://vertexlooker-models-central/mpg/model/assets/\n",
      "gs://vertexlooker-models-central/mpg/model/variables/\n"
     ]
    }
   ],
   "source": [
    "!gsutil ls gs://vertexlooker-models-central/mpg/model"
   ]
  },
  {
   "cell_type": "code",
   "execution_count": 3,
   "id": "b6e904ab-493f-463a-841c-47017786baa5",
   "metadata": {},
   "outputs": [
    {
     "name": "stderr",
     "output_type": "stream",
     "text": [
      "2022-06-01 12:31:33.061183: W tensorflow/stream_executor/platform/default/dso_loader.cc:64] Could not load dynamic library 'libcudart.so.11.0'; dlerror: libcudart.so.11.0: cannot open shared object file: No such file or directory\n",
      "2022-06-01 12:31:33.061247: I tensorflow/stream_executor/cuda/cudart_stub.cc:29] Ignore above cudart dlerror if you do not have a GPU set up on your machine.\n",
      "2022-06-01 12:31:45.389882: W tensorflow/stream_executor/platform/default/dso_loader.cc:64] Could not load dynamic library 'libcuda.so.1'; dlerror: libcuda.so.1: cannot open shared object file: No such file or directory\n",
      "2022-06-01 12:31:45.390006: W tensorflow/stream_executor/cuda/cuda_driver.cc:269] failed call to cuInit: UNKNOWN ERROR (303)\n",
      "2022-06-01 12:31:45.390050: I tensorflow/stream_executor/cuda/cuda_diagnostics.cc:156] kernel driver does not appear to be running on this host (dialogflow): /proc/driver/nvidia/version does not exist\n",
      "2022-06-01 12:31:45.441202: I tensorflow/core/platform/cpu_feature_guard.cc:193] This TensorFlow binary is optimized with oneAPI Deep Neural Network Library (oneDNN) to use the following CPU instructions in performance-critical operations:  AVX2 FMA\n",
      "To enable them in other operations, rebuild TensorFlow with the appropriate compiler flags.\n"
     ]
    }
   ],
   "source": [
    "from tensorflow import keras\n",
    "model = keras.models.load_model('gs://vertexlooker-models-central/mpg/model')"
   ]
  },
  {
   "cell_type": "code",
   "execution_count": 4,
   "id": "39d6f64d-a21e-4dfd-a89c-f4dcfdf82cb0",
   "metadata": {},
   "outputs": [
    {
     "name": "stdout",
     "output_type": "stream",
     "text": [
      "Model: \"sequential\"\n",
      "_________________________________________________________________\n",
      " Layer (type)                Output Shape              Param #   \n",
      "=================================================================\n",
      " dense (Dense)               (None, 64)                640       \n",
      "                                                                 \n",
      " dense_1 (Dense)             (None, 64)                4160      \n",
      "                                                                 \n",
      " dense_2 (Dense)             (None, 1)                 65        \n",
      "                                                                 \n",
      "=================================================================\n",
      "Total params: 4,865\n",
      "Trainable params: 4,865\n",
      "Non-trainable params: 0\n",
      "_________________________________________________________________\n"
     ]
    }
   ],
   "source": [
    "model.summary()"
   ]
  },
  {
   "cell_type": "code",
   "execution_count": 10,
   "id": "b768bf2f-4cc2-404a-b2ac-20ffeb5a2b57",
   "metadata": {},
   "outputs": [
    {
     "name": "stdout",
     "output_type": "stream",
     "text": [
      "1/1 [==============================] - 0s 33ms/step\n"
     ]
    }
   ],
   "source": [
    "instances = [[1.4838871833555929,\n",
    " 1.8659883497083019,\n",
    " 2.234620276849616,\n",
    " 1.0187816540094903,\n",
    " -2.530890710602246,\n",
    " -1.6046416850441676,\n",
    " -0.4651483719733302,\n",
    " -0.4952254087173721,\n",
    " 0.7746763768735953]]\n",
    "\n",
    "predict = model.predict(instances)"
   ]
  },
  {
   "cell_type": "code",
   "execution_count": 15,
   "id": "08f555b3-8808-4842-bc18-adfc7996fbf3",
   "metadata": {},
   "outputs": [
    {
     "name": "stderr",
     "output_type": "stream",
     "text": [
      "E0601 13:48:38.475209726   17303 fork_posix.cc:70]           Fork support is only compatible with the epoll1 and poll polling strategies\n"
     ]
    },
    {
     "name": "stdout",
     "output_type": "stream",
     "text": [
      "\u001b[33mWARNING: Ignoring invalid distribution -oogle-cloud-datastore (/opt/conda/lib/python3.7/site-packages)\u001b[0m\u001b[33m\n",
      "\u001b[0mtensorboard                           2.9.0\n",
      "tensorboard-data-server               0.6.1\n",
      "tensorboard-plugin-wit                1.8.1\n",
      "tensorflow                            2.9.0\n",
      "tensorflow-cloud                      0.1.16\n",
      "tensorflow-datasets                   4.5.2\n",
      "tensorflow-docs                       0.0.0.dev0\n",
      "tensorflow-estimator                  2.9.0\n",
      "tensorflow-io-gcs-filesystem          0.24.0\n",
      "tensorflow-metadata                   1.7.0\n",
      "tensorflow-serving-api                2.8.0\n",
      "tensorflow-transform                  1.7.0\n",
      "\u001b[33mWARNING: Ignoring invalid distribution -oogle-cloud-datastore (/opt/conda/lib/python3.7/site-packages)\u001b[0m\u001b[33m\n",
      "\u001b[0m\u001b[33mWARNING: Ignoring invalid distribution -oogle-cloud-datastore (/opt/conda/lib/python3.7/site-packages)\u001b[0m\u001b[33m\n",
      "\u001b[0m\u001b[33mWARNING: Ignoring invalid distribution -oogle-cloud-datastore (/opt/conda/lib/python3.7/site-packages)\u001b[0m\u001b[33m\n",
      "\u001b[0m"
     ]
    }
   ],
   "source": [
    "!pip list | grep tensor"
   ]
  },
  {
   "cell_type": "code",
   "execution_count": 20,
   "id": "a62d5e41-f143-412a-a127-abbb52bd4783",
   "metadata": {},
   "outputs": [
    {
     "name": "stdout",
     "output_type": "stream",
     "text": [
      "<class 'numpy.ndarray'>\n"
     ]
    }
   ],
   "source": [
    "print(type(predict))"
   ]
  },
  {
   "cell_type": "code",
   "execution_count": 22,
   "id": "9c95373c-352f-4395-95fc-a61167977ee5",
   "metadata": {},
   "outputs": [
    {
     "name": "stdout",
     "output_type": "stream",
     "text": [
      "[[15.370857238769531]]\n"
     ]
    }
   ],
   "source": [
    "print(predict.tolist())"
   ]
  },
  {
   "cell_type": "code",
   "execution_count": 9,
   "id": "28905e71-e99a-4beb-a31b-5fe9d91e9b3b",
   "metadata": {},
   "outputs": [
    {
     "name": "stdout",
     "output_type": "stream",
     "text": [
      "API response:  Prediction(predictions=[[15.3708572]], deployed_model_id='8502224350429052928', explanations=None)\n",
      "Predicted MPG:  15.3708572\n"
     ]
    }
   ],
   "source": [
    "from google.cloud import aiplatform\n",
    "\n",
    "endpoint = aiplatform.Endpoint(\n",
    "    endpoint_name=\"projects/985084735463/locations/us-central1/endpoints/5910015736784355328\"\n",
    ")\n",
    "response = endpoint.predict(instances)\n",
    "print('API response: ', response)\n",
    "\n",
    "print('Predicted MPG: ', response.predictions[0][0])"
   ]
  },
  {
   "cell_type": "code",
   "execution_count": null,
   "id": "c609fe32-cb79-4c6c-bc1c-3d8886db1bcd",
   "metadata": {},
   "outputs": [],
   "source": []
  }
 ],
 "metadata": {
  "environment": {
   "kernel": "python3",
   "name": "common-cpu.m91",
   "type": "gcloud",
   "uri": "gcr.io/deeplearning-platform-release/base-cpu:m91"
  },
  "kernelspec": {
   "display_name": "Python 3",
   "language": "python",
   "name": "python3"
  },
  "language_info": {
   "codemirror_mode": {
    "name": "ipython",
    "version": 3
   },
   "file_extension": ".py",
   "mimetype": "text/x-python",
   "name": "python",
   "nbconvert_exporter": "python",
   "pygments_lexer": "ipython3",
   "version": "3.7.12"
  }
 },
 "nbformat": 4,
 "nbformat_minor": 5
}
